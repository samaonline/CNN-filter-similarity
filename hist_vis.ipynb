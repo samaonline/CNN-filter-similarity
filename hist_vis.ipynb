{
 "cells": [
  {
   "cell_type": "code",
   "execution_count": 1,
   "metadata": {},
   "outputs": [],
   "source": [
    "import numpy as np\n",
    "import matplotlib.pyplot as plt\n",
    "from matplotlib.ticker import PercentFormatter\n",
    "import os\n",
    "import shutil\n",
    "from pathlib import Path"
   ]
  },
  {
   "cell_type": "code",
   "execution_count": 5,
   "metadata": {},
   "outputs": [
    {
     "data": {
      "image/png": "[encoded data removed]",
      "text/plain": [
       "<Figure size 432x288 with 1 Axes>"
      ]
     },
     "metadata": {
      "needs_background": "light"
     },
     "output_type": "display_data"
    }
   ],
   "source": [
    "data1 = (np.abs(np.load(\"1_18.npy\")))\n",
    "data1A = (np.load(\"0_18.npy\"))\n",
    "data2 = (np.load(\"2_18.npy\"))\n",
    "\n",
    "\n",
    "plt.hist(data1, bins=41, color='r', weights=np.ones(len(data1)) / len(data1), alpha=0.5,  label='layer7')\n",
    "plt.hist(data1A, bins=41, color='m', weights=np.ones(len(data1A)) / len(data1A), alpha=0.5, label='layer15')\n",
    "plt.hist(data2, bins=41,  color='g', weights=np.ones(len(data2)) / len(data2), alpha=0.5,  label='layer27')\n",
    "plt.gca().yaxis.set_major_formatter(PercentFormatter(1))\n",
    "plt.legend()\n",
    "plt.show()"
   ]
  }
 ],
 "metadata": {
  "kernelspec": {
   "display_name": "Python 3",
   "language": "python",
   "name": "python3"
  },
  "language_info": {
   "codemirror_mode": {
    "name": "ipython",
    "version": 3
   },
   "file_extension": ".py",
   "mimetype": "text/x-python",
   "name": "python",
   "nbconvert_exporter": "python",
   "pygments_lexer": "ipython3",
   "version": "3.7.6"
  }
 },
 "nbformat": 4,
 "nbformat_minor": 4
}
